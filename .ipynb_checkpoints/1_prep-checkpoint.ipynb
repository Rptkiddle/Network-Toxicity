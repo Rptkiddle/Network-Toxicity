{
 "cells": [
  {
   "cell_type": "markdown",
   "id": "6cc44ecf-c671-4e60-9329-41cf96a62ea0",
   "metadata": {},
   "source": [
    "# Data Preparation\n",
    "\n",
    "- **INPUT**: .csv file with message text in single column\n",
    "- **OUTPUT**: several chunked .csv files with unique message text in first column (duplicates removed).\n",
    "    - pass output to 2_classify.py to retrieve toxicity scores via Perspective API.\n",
    "    - **NB**: Perspective API takes raw text (UTF-8) with emojis; no pre-processing neccecary. \n",
    "        - See: https://developers.perspectiveapi.com/"
   ]
  },
  {
   "cell_type": "markdown",
   "id": "87654096-ef3a-4cd5-8e24-e9f858b28413",
   "metadata": {
    "jp-MarkdownHeadingCollapsed": true,
    "tags": []
   },
   "source": [
    "## setup"
   ]
  },
  {
   "cell_type": "code",
   "execution_count": 1,
   "id": "5d923eda-40c9-49c6-a0da-77319a79e1b1",
   "metadata": {},
   "outputs": [],
   "source": [
    "#dependencies:\n",
    "import pandas as pd\n",
    "\n",
    "#data directory:\n",
    "datadir = '/Users/rptkiddle/Desktop/Network-Toxicity/data/'"
   ]
  },
  {
   "cell_type": "markdown",
   "id": "7b979653-d1a3-419b-a3d3-eb32f5df9ea9",
   "metadata": {
    "jp-MarkdownHeadingCollapsed": true,
    "tags": []
   },
   "source": [
    "## load source dataset (cleaned_data.csv)"
   ]
  },
  {
   "cell_type": "code",
   "execution_count": 2,
   "id": "da13d713-05bd-4d0f-9d96-55c1bad45608",
   "metadata": {},
   "outputs": [
    {
     "data": {
      "text/html": [
       "<div>\n",
       "<style scoped>\n",
       "    .dataframe tbody tr th:only-of-type {\n",
       "        vertical-align: middle;\n",
       "    }\n",
       "\n",
       "    .dataframe tbody tr th {\n",
       "        vertical-align: top;\n",
       "    }\n",
       "\n",
       "    .dataframe thead th {\n",
       "        text-align: right;\n",
       "    }\n",
       "</style>\n",
       "<table border=\"1\" class=\"dataframe\">\n",
       "  <thead>\n",
       "    <tr style=\"text-align: right;\">\n",
       "      <th></th>\n",
       "      <th>date</th>\n",
       "      <th>url</th>\n",
       "      <th>source</th>\n",
       "      <th>type</th>\n",
       "      <th>user_data</th>\n",
       "      <th>ids</th>\n",
       "      <th>message_id</th>\n",
       "      <th>text_clean</th>\n",
       "      <th>links</th>\n",
       "      <th>link_frequency</th>\n",
       "      <th>text</th>\n",
       "      <th>text_lower</th>\n",
       "      <th>nolink_text</th>\n",
       "      <th>noemoji_text</th>\n",
       "      <th>spaced_text</th>\n",
       "    </tr>\n",
       "  </thead>\n",
       "  <tbody>\n",
       "    <tr>\n",
       "      <th>0</th>\n",
       "      <td>2021-06-18 04:55:38+00:00</td>\n",
       "      <td>https://t.me/fvd_nl</td>\n",
       "      <td>fvd_nl</td>\n",
       "      <td>chat</td>\n",
       "      <td>User(id=1036480136, is_self=False, contact=Fal...</td>\n",
       "      <td>1.036480e+09</td>\n",
       "      <td>15706.0</td>\n",
       "      <td>wat een aparte namen hebben die zieke kinderen...</td>\n",
       "      <td>NaN</td>\n",
       "      <td>NaN</td>\n",
       "      <td>Wat een aparte namen hebben die zieke kinderen...</td>\n",
       "      <td>wat een aparte namen hebben die zieke kinderen...</td>\n",
       "      <td>wat een aparte namen hebben die zieke kinderen...</td>\n",
       "      <td>wat een aparte namen hebben die zieke kinderen...</td>\n",
       "      <td>wat een aparte namen hebben die zieke kinderen...</td>\n",
       "    </tr>\n",
       "    <tr>\n",
       "      <th>1</th>\n",
       "      <td>2021-06-18 01:05:45+00:00</td>\n",
       "      <td>https://t.me/fvd_nl</td>\n",
       "      <td>fvd_nl</td>\n",
       "      <td>chat</td>\n",
       "      <td>User(id=1396449004, is_self=False, contact=Fal...</td>\n",
       "      <td>1.396449e+09</td>\n",
       "      <td>15704.0</td>\n",
       "      <td>jufmaikenl doet aan kindermishandeling via psy...</td>\n",
       "      <td>NaN</td>\n",
       "      <td>NaN</td>\n",
       "      <td>Jufmaike.nl doet aan kindermishandeling via ps...</td>\n",
       "      <td>jufmaike.nl doet aan kindermishandeling via ps...</td>\n",
       "      <td>jufmaike.nl doet aan kindermishandeling via ps...</td>\n",
       "      <td>jufmaike.nl doet aan kindermishandeling via ps...</td>\n",
       "      <td>jufmaike.nl doet aan kindermishandeling via ps...</td>\n",
       "    </tr>\n",
       "    <tr>\n",
       "      <th>2</th>\n",
       "      <td>2021-06-17 18:22:11+00:00</td>\n",
       "      <td>https://t.me/fvd_nl</td>\n",
       "      <td>fvd_nl</td>\n",
       "      <td>chat</td>\n",
       "      <td>User(id=1808984447, is_self=False, contact=Fal...</td>\n",
       "      <td>1.808984e+09</td>\n",
       "      <td>15702.0</td>\n",
       "      <td>NaN</td>\n",
       "      <td>NaN</td>\n",
       "      <td>NaN</td>\n",
       "      <td>NaN</td>\n",
       "      <td>NaN</td>\n",
       "      <td>NaN</td>\n",
       "      <td>NaN</td>\n",
       "      <td>NaN</td>\n",
       "    </tr>\n",
       "    <tr>\n",
       "      <th>3</th>\n",
       "      <td>2021-06-17 17:38:00+00:00</td>\n",
       "      <td>https://t.me/fvd_nl</td>\n",
       "      <td>fvd_nl</td>\n",
       "      <td>chat</td>\n",
       "      <td>User(id=1697434758, is_self=False, contact=Fal...</td>\n",
       "      <td>1.697435e+09</td>\n",
       "      <td>15701.0</td>\n",
       "      <td>NaN</td>\n",
       "      <td>NaN</td>\n",
       "      <td>NaN</td>\n",
       "      <td>NaN</td>\n",
       "      <td>NaN</td>\n",
       "      <td>NaN</td>\n",
       "      <td>NaN</td>\n",
       "      <td>NaN</td>\n",
       "    </tr>\n",
       "    <tr>\n",
       "      <th>4</th>\n",
       "      <td>2021-06-17 13:57:04+00:00</td>\n",
       "      <td>https://t.me/fvd_nl</td>\n",
       "      <td>fvd_nl</td>\n",
       "      <td>chat</td>\n",
       "      <td>User(id=300237411, is_self=False, contact=Fals...</td>\n",
       "      <td>3.002374e+08</td>\n",
       "      <td>15700.0</td>\n",
       "      <td>red_exclamation_mark red_exclamation_mark red_...</td>\n",
       "      <td>NaN</td>\n",
       "      <td>NaN</td>\n",
       "      <td>❗❗❗❗❗❗❗❗❗❗\\nORALE VACCINATIES DOOR HET DRINKWA...</td>\n",
       "      <td>❗❗❗❗❗❗❗❗❗❗\\norale vaccinaties door het drinkwa...</td>\n",
       "      <td>❗❗❗❗❗❗❗❗❗❗\\norale vaccinaties door het drinkwa...</td>\n",
       "      <td>:red_exclamation_mark::red_exclamation_mark::r...</td>\n",
       "      <td>:red_exclamation_mark ::red_exclamation_mark :...</td>\n",
       "    </tr>\n",
       "  </tbody>\n",
       "</table>\n",
       "</div>"
      ],
      "text/plain": [
       "                        date                  url  source  type  \\\n",
       "0  2021-06-18 04:55:38+00:00  https://t.me/fvd_nl  fvd_nl  chat   \n",
       "1  2021-06-18 01:05:45+00:00  https://t.me/fvd_nl  fvd_nl  chat   \n",
       "2  2021-06-17 18:22:11+00:00  https://t.me/fvd_nl  fvd_nl  chat   \n",
       "3  2021-06-17 17:38:00+00:00  https://t.me/fvd_nl  fvd_nl  chat   \n",
       "4  2021-06-17 13:57:04+00:00  https://t.me/fvd_nl  fvd_nl  chat   \n",
       "\n",
       "                                           user_data           ids  \\\n",
       "0  User(id=1036480136, is_self=False, contact=Fal...  1.036480e+09   \n",
       "1  User(id=1396449004, is_self=False, contact=Fal...  1.396449e+09   \n",
       "2  User(id=1808984447, is_self=False, contact=Fal...  1.808984e+09   \n",
       "3  User(id=1697434758, is_self=False, contact=Fal...  1.697435e+09   \n",
       "4  User(id=300237411, is_self=False, contact=Fals...  3.002374e+08   \n",
       "\n",
       "   message_id                                         text_clean links  \\\n",
       "0     15706.0  wat een aparte namen hebben die zieke kinderen...   NaN   \n",
       "1     15704.0  jufmaikenl doet aan kindermishandeling via psy...   NaN   \n",
       "2     15702.0                                                NaN   NaN   \n",
       "3     15701.0                                                NaN   NaN   \n",
       "4     15700.0  red_exclamation_mark red_exclamation_mark red_...   NaN   \n",
       "\n",
       "   link_frequency                                               text  \\\n",
       "0             NaN  Wat een aparte namen hebben die zieke kinderen...   \n",
       "1             NaN  Jufmaike.nl doet aan kindermishandeling via ps...   \n",
       "2             NaN                                                NaN   \n",
       "3             NaN                                                NaN   \n",
       "4             NaN  ❗❗❗❗❗❗❗❗❗❗\\nORALE VACCINATIES DOOR HET DRINKWA...   \n",
       "\n",
       "                                          text_lower  \\\n",
       "0  wat een aparte namen hebben die zieke kinderen...   \n",
       "1  jufmaike.nl doet aan kindermishandeling via ps...   \n",
       "2                                                NaN   \n",
       "3                                                NaN   \n",
       "4  ❗❗❗❗❗❗❗❗❗❗\\norale vaccinaties door het drinkwa...   \n",
       "\n",
       "                                         nolink_text  \\\n",
       "0  wat een aparte namen hebben die zieke kinderen...   \n",
       "1  jufmaike.nl doet aan kindermishandeling via ps...   \n",
       "2                                                NaN   \n",
       "3                                                NaN   \n",
       "4  ❗❗❗❗❗❗❗❗❗❗\\norale vaccinaties door het drinkwa...   \n",
       "\n",
       "                                        noemoji_text  \\\n",
       "0  wat een aparte namen hebben die zieke kinderen...   \n",
       "1  jufmaike.nl doet aan kindermishandeling via ps...   \n",
       "2                                                NaN   \n",
       "3                                                NaN   \n",
       "4  :red_exclamation_mark::red_exclamation_mark::r...   \n",
       "\n",
       "                                         spaced_text  \n",
       "0  wat een aparte namen hebben die zieke kinderen...  \n",
       "1  jufmaike.nl doet aan kindermishandeling via ps...  \n",
       "2                                                NaN  \n",
       "3                                                NaN  \n",
       "4  :red_exclamation_mark ::red_exclamation_mark :...  "
      ]
     },
     "execution_count": 2,
     "metadata": {},
     "output_type": "execute_result"
    }
   ],
   "source": [
    "#load data:\n",
    "data = pd.read_csv(datadir+'cleaned_data.csv')\n",
    "data.head()"
   ]
  },
  {
   "cell_type": "markdown",
   "id": "eb5347d0-4b11-45d4-8028-76e42887682d",
   "metadata": {
    "jp-MarkdownHeadingCollapsed": true,
    "tags": []
   },
   "source": [
    "## remove duplicate messages"
   ]
  },
  {
   "cell_type": "code",
   "execution_count": 3,
   "id": "064f0625-c9af-48ea-beb1-4a92e71317d2",
   "metadata": {},
   "outputs": [
    {
     "name": "stdout",
     "output_type": "stream",
     "text": [
      "reduced 2033663 messages to 1321197 unique messages after removing duplicates.\n"
     ]
    }
   ],
   "source": [
    "#take messages column (series) into list:\n",
    "messages = data['text'].tolist()\n",
    "\n",
    "#drop duplicates: \n",
    "nodupes = list(set(messages))\n",
    "\n",
    "#check reduction:\n",
    "print(f\"reduced {len(messages)} messages to {len(nodupes)} unique messages after removing duplicates.\")"
   ]
  },
  {
   "cell_type": "markdown",
   "id": "cdb96f4f-0404-43f9-a896-cdc75742d3dc",
   "metadata": {
    "jp-MarkdownHeadingCollapsed": true,
    "tags": []
   },
   "source": [
    "## chunk for feeding to perspective api"
   ]
  },
  {
   "cell_type": "code",
   "execution_count": 4,
   "id": "74364398-b012-4458-a9cf-d011d3c1c250",
   "metadata": {},
   "outputs": [],
   "source": [
    "#split messages into chunks for 100k:\n",
    "chunked = [nodupes[i:i + 100000] for i in range(0, len(nodupes), 100000)]\n",
    "\n",
    "#..and export to CSV:\n",
    "n = 0\n",
    "for chunk in chunked:\n",
    "    n+=1\n",
    "    pd.DataFrame(chunk).to_csv(f\"{datadir}chunk{n}.csv\", index = False, header = False)"
   ]
  }
 ],
 "metadata": {
  "kernelspec": {
   "display_name": "Python 3 (ipykernel)",
   "language": "python",
   "name": "python3"
  },
  "language_info": {
   "codemirror_mode": {
    "name": "ipython",
    "version": 3
   },
   "file_extension": ".py",
   "mimetype": "text/x-python",
   "name": "python",
   "nbconvert_exporter": "python",
   "pygments_lexer": "ipython3",
   "version": "3.9.12"
  }
 },
 "nbformat": 4,
 "nbformat_minor": 5
}
